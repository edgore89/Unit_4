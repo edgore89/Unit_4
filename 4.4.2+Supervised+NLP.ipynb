{
 "cells": [
  {
   "cell_type": "code",
   "execution_count": 53,
   "metadata": {
    "run_control": {
     "frozen": false,
     "read_only": false
    }
   },
   "outputs": [],
   "source": [
    "%matplotlib inline\n",
    "import numpy as np\n",
    "import pandas as pd\n",
    "import scipy\n",
    "import sklearn\n",
    "import spacy\n",
    "import matplotlib.pyplot as plt\n",
    "import seaborn as sns\n",
    "import re\n",
    "from nltk.corpus import gutenberg, stopwords\n",
    "from collections import Counter\n",
    "from sklearn.model_selection import cross_val_score\n",
    "from sklearn.metrics import classification_report\n",
    "from sklearn.metrics import confusion_matrix"
   ]
  },
  {
   "cell_type": "code",
   "execution_count": 2,
   "metadata": {},
   "outputs": [
    {
     "name": "stderr",
     "output_type": "stream",
     "text": [
      "[nltk_data] Downloading package gutenberg to\n",
      "[nltk_data]     C:\\Users\\edgor\\AppData\\Roaming\\nltk_data...\n",
      "[nltk_data]   Package gutenberg is already up-to-date!\n",
      "[nltk_data] Downloading package stopwords to\n",
      "[nltk_data]     C:\\Users\\edgor\\AppData\\Roaming\\nltk_data...\n",
      "[nltk_data]   Package stopwords is already up-to-date!\n"
     ]
    },
    {
     "data": {
      "text/plain": [
       "True"
      ]
     },
     "execution_count": 2,
     "metadata": {},
     "output_type": "execute_result"
    }
   ],
   "source": [
    "import nltk\n",
    "nltk.download('gutenberg')\n",
    "nltk.download('stopwords')"
   ]
  },
  {
   "cell_type": "markdown",
   "metadata": {
    "run_control": {
     "frozen": false,
     "read_only": false
    }
   },
   "source": [
    "Supervised NLP requires a pre-labelled dataset for training and testing, and is generally interested in categorizing text in various ways. In this case, we are going to try to predict whether a sentence comes from _Alice in Wonderland_ by Lewis Carroll or _Persuasion_ by Jane Austen. We can use any of the supervised models we've covered previously, as long as they allow categorical outcomes. In this case, we'll try Random Forests, SVM, and KNN.\n",
    "\n",
    "Our feature-generation approach will be something called _BoW_, or _Bag of Words_. BoW is quite simple: For each sentence, we count how many times each word appears. We will then use those counts as features.  "
   ]
  },
  {
   "cell_type": "code",
   "execution_count": 69,
   "metadata": {
    "run_control": {
     "frozen": false,
     "read_only": false
    },
    "scrolled": true
   },
   "outputs": [],
   "source": [
    "# Utility function for standard text cleaning.\n",
    "def text_cleaner(text):\n",
    "    # Visual inspection identifies a form of punctuation spaCy does not\n",
    "    # recognize: the double dash '--'.  Better get rid of it now!\n",
    "    text = re.sub(r'--',' ',text)\n",
    "    text = re.sub(\"[\\[].*?[\\]]\", \"\", text)\n",
    "    text = ' '.join(text.split()[:5000])\n",
    "    return text\n",
    "    \n",
    "# Load and clean the data.\n",
    "persuasion = gutenberg.raw('austen-persuasion.txt')\n",
    "alice = gutenberg.raw('carroll-alice.txt')\n",
    "\n",
    "# The Chapter indicator is idiosyncratic\n",
    "persuasion = re.sub(r'Chapter \\d+', '', persuasion)\n",
    "alice = re.sub(r'CHAPTER .*', '', alice)\n",
    "    \n",
    "alice = text_cleaner(alice)\n",
    "persuasion = text_cleaner(persuasion)"
   ]
  },
  {
   "cell_type": "code",
   "execution_count": 12,
   "metadata": {},
   "outputs": [],
   "source": [
    "# Parse the cleaned novels. This can take a bit.\n",
    "nlp = spacy.load('en_core_web_sm') "
   ]
  },
  {
   "cell_type": "code",
   "execution_count": 13,
   "metadata": {},
   "outputs": [],
   "source": [
    "alice_doc = nlp(alice)\n",
    "persuasion_doc = nlp(persuasion)"
   ]
  },
  {
   "cell_type": "code",
   "execution_count": 14,
   "metadata": {},
   "outputs": [
    {
     "data": {
      "text/html": [
       "<div>\n",
       "<style scoped>\n",
       "    .dataframe tbody tr th:only-of-type {\n",
       "        vertical-align: middle;\n",
       "    }\n",
       "\n",
       "    .dataframe tbody tr th {\n",
       "        vertical-align: top;\n",
       "    }\n",
       "\n",
       "    .dataframe thead th {\n",
       "        text-align: right;\n",
       "    }\n",
       "</style>\n",
       "<table border=\"1\" class=\"dataframe\">\n",
       "  <thead>\n",
       "    <tr style=\"text-align: right;\">\n",
       "      <th></th>\n",
       "      <th>0</th>\n",
       "      <th>1</th>\n",
       "    </tr>\n",
       "  </thead>\n",
       "  <tbody>\n",
       "    <tr>\n",
       "      <th>0</th>\n",
       "      <td>(Alice, was, beginning, to, get, very, tired, ...</td>\n",
       "      <td>Carroll</td>\n",
       "    </tr>\n",
       "    <tr>\n",
       "      <th>1</th>\n",
       "      <td>(So, she, was, considering, in, her, own, mind...</td>\n",
       "      <td>Carroll</td>\n",
       "    </tr>\n",
       "    <tr>\n",
       "      <th>2</th>\n",
       "      <td>(There, was, nothing, so, VERY, remarkable, in...</td>\n",
       "      <td>Carroll</td>\n",
       "    </tr>\n",
       "    <tr>\n",
       "      <th>3</th>\n",
       "      <td>(Oh, dear, !)</td>\n",
       "      <td>Carroll</td>\n",
       "    </tr>\n",
       "    <tr>\n",
       "      <th>4</th>\n",
       "      <td>(I, shall, be, late, !, ')</td>\n",
       "      <td>Carroll</td>\n",
       "    </tr>\n",
       "  </tbody>\n",
       "</table>\n",
       "</div>"
      ],
      "text/plain": [
       "                                                   0        1\n",
       "0  (Alice, was, beginning, to, get, very, tired, ...  Carroll\n",
       "1  (So, she, was, considering, in, her, own, mind...  Carroll\n",
       "2  (There, was, nothing, so, VERY, remarkable, in...  Carroll\n",
       "3                                      (Oh, dear, !)  Carroll\n",
       "4                         (I, shall, be, late, !, ')  Carroll"
      ]
     },
     "execution_count": 14,
     "metadata": {},
     "output_type": "execute_result"
    }
   ],
   "source": [
    "# Group into sentences.\n",
    "alice_sents = [[sent, \"Carroll\"] for sent in alice_doc.sents]\n",
    "persuasion_sents = [[sent, \"Austen\"] for sent in persuasion_doc.sents]\n",
    "\n",
    "# Combine the sentences from the two novels into one data frame.\n",
    "sentences = pd.DataFrame(alice_sents + persuasion_sents)\n",
    "sentences.head()"
   ]
  },
  {
   "cell_type": "markdown",
   "metadata": {
    "run_control": {
     "frozen": false,
     "read_only": false
    }
   },
   "source": [
    "Time to bag some words!  Since spaCy has already tokenized and labelled our data, we can move directly to recording how often various words occur.  We will exclude stopwords and punctuation.  In addition, in an attempt to keep our feature space from exploding, we will work with lemmas (root words) rather than the raw text terms, and we'll only use the 2000 most common words for each text."
   ]
  },
  {
   "cell_type": "code",
   "execution_count": 15,
   "metadata": {
    "run_control": {
     "frozen": false,
     "read_only": false
    },
    "scrolled": false
   },
   "outputs": [],
   "source": [
    "# Utility function to create a list of the 2000 most common words.\n",
    "def bag_of_words(text):\n",
    "    \n",
    "    # Filter out punctuation and stop words.\n",
    "    allwords = [token.lemma_\n",
    "                for token in text\n",
    "                if not token.is_punct\n",
    "                and not token.is_stop]\n",
    "    \n",
    "    # Return the most common words.\n",
    "    return [item[0] for item in Counter(allwords).most_common(2000)]\n",
    "    \n",
    "\n",
    "# Creates a data frame with features for each word in our common word set.\n",
    "# Each value is the count of the times the word appears in each sentence.\n",
    "def bow_features(sentences, common_words):\n",
    "    \n",
    "    # Scaffold the data frame and initialize counts to zero.\n",
    "    df = pd.DataFrame(columns=common_words)\n",
    "    df['text_sentence'] = sentences[0]\n",
    "    df['text_source'] = sentences[1]\n",
    "    df.loc[:, common_words] = 0\n",
    "    \n",
    "    # Process each row, counting the occurrence of words in each sentence.\n",
    "    for i, sentence in enumerate(df['text_sentence']):\n",
    "        \n",
    "        # Convert the sentence to lemmas, then filter out punctuation,\n",
    "        # stop words, and uncommon words.\n",
    "        words = [token.lemma_\n",
    "                 for token in sentence\n",
    "                 if (\n",
    "                     not token.is_punct\n",
    "                     and not token.is_stop\n",
    "                     and token.lemma_ in common_words\n",
    "                 )]\n",
    "        \n",
    "        # Populate the row with word counts.\n",
    "        for word in words:\n",
    "            df.loc[i, word] += 1\n",
    "        \n",
    "        # This counter is just to make sure the kernel didn't hang.\n",
    "        if i % 500 == 0:\n",
    "            print(\"Processing row {}\".format(i))\n",
    "            \n",
    "    return df\n",
    "\n",
    "# Set up the bags.\n",
    "alicewords = bag_of_words(alice_doc)\n",
    "persuasionwords = bag_of_words(persuasion_doc)\n",
    "\n",
    "# Combine bags to create a set of unique words.\n",
    "common_words = set(alicewords + persuasionwords)"
   ]
  },
  {
   "cell_type": "code",
   "execution_count": 16,
   "metadata": {},
   "outputs": [
    {
     "name": "stdout",
     "output_type": "stream",
     "text": [
      "Processing row 0\n"
     ]
    },
    {
     "data": {
      "text/html": [
       "<div>\n",
       "<style scoped>\n",
       "    .dataframe tbody tr th:only-of-type {\n",
       "        vertical-align: middle;\n",
       "    }\n",
       "\n",
       "    .dataframe tbody tr th {\n",
       "        vertical-align: top;\n",
       "    }\n",
       "\n",
       "    .dataframe thead th {\n",
       "        text-align: right;\n",
       "    }\n",
       "</style>\n",
       "<table border=\"1\" class=\"dataframe\">\n",
       "  <thead>\n",
       "    <tr style=\"text-align: right;\">\n",
       "      <th></th>\n",
       "      <th>idle</th>\n",
       "      <th>pine</th>\n",
       "      <th>boot</th>\n",
       "      <th>number</th>\n",
       "      <th>live</th>\n",
       "      <th>silly</th>\n",
       "      <th>deal</th>\n",
       "      <th>with</th>\n",
       "      <th>carry</th>\n",
       "      <th>invite</th>\n",
       "      <th>...</th>\n",
       "      <th>its</th>\n",
       "      <th>entirely</th>\n",
       "      <th>lay</th>\n",
       "      <th>lock</th>\n",
       "      <th>ready</th>\n",
       "      <th>sound</th>\n",
       "      <th>neck</th>\n",
       "      <th>impossible</th>\n",
       "      <th>text_sentence</th>\n",
       "      <th>text_source</th>\n",
       "    </tr>\n",
       "  </thead>\n",
       "  <tbody>\n",
       "    <tr>\n",
       "      <th>0</th>\n",
       "      <td>0</td>\n",
       "      <td>0</td>\n",
       "      <td>0</td>\n",
       "      <td>0</td>\n",
       "      <td>0</td>\n",
       "      <td>0</td>\n",
       "      <td>0</td>\n",
       "      <td>0</td>\n",
       "      <td>0</td>\n",
       "      <td>0</td>\n",
       "      <td>...</td>\n",
       "      <td>0</td>\n",
       "      <td>0</td>\n",
       "      <td>0</td>\n",
       "      <td>0</td>\n",
       "      <td>0</td>\n",
       "      <td>0</td>\n",
       "      <td>0</td>\n",
       "      <td>0</td>\n",
       "      <td>(Alice, was, beginning, to, get, very, tired, ...</td>\n",
       "      <td>Carroll</td>\n",
       "    </tr>\n",
       "    <tr>\n",
       "      <th>1</th>\n",
       "      <td>0</td>\n",
       "      <td>0</td>\n",
       "      <td>0</td>\n",
       "      <td>0</td>\n",
       "      <td>0</td>\n",
       "      <td>0</td>\n",
       "      <td>0</td>\n",
       "      <td>0</td>\n",
       "      <td>0</td>\n",
       "      <td>0</td>\n",
       "      <td>...</td>\n",
       "      <td>0</td>\n",
       "      <td>0</td>\n",
       "      <td>0</td>\n",
       "      <td>0</td>\n",
       "      <td>0</td>\n",
       "      <td>0</td>\n",
       "      <td>0</td>\n",
       "      <td>0</td>\n",
       "      <td>(So, she, was, considering, in, her, own, mind...</td>\n",
       "      <td>Carroll</td>\n",
       "    </tr>\n",
       "    <tr>\n",
       "      <th>2</th>\n",
       "      <td>0</td>\n",
       "      <td>0</td>\n",
       "      <td>0</td>\n",
       "      <td>0</td>\n",
       "      <td>0</td>\n",
       "      <td>0</td>\n",
       "      <td>0</td>\n",
       "      <td>0</td>\n",
       "      <td>0</td>\n",
       "      <td>0</td>\n",
       "      <td>...</td>\n",
       "      <td>0</td>\n",
       "      <td>0</td>\n",
       "      <td>0</td>\n",
       "      <td>0</td>\n",
       "      <td>0</td>\n",
       "      <td>0</td>\n",
       "      <td>0</td>\n",
       "      <td>0</td>\n",
       "      <td>(There, was, nothing, so, VERY, remarkable, in...</td>\n",
       "      <td>Carroll</td>\n",
       "    </tr>\n",
       "    <tr>\n",
       "      <th>3</th>\n",
       "      <td>0</td>\n",
       "      <td>0</td>\n",
       "      <td>0</td>\n",
       "      <td>0</td>\n",
       "      <td>0</td>\n",
       "      <td>0</td>\n",
       "      <td>0</td>\n",
       "      <td>0</td>\n",
       "      <td>0</td>\n",
       "      <td>0</td>\n",
       "      <td>...</td>\n",
       "      <td>0</td>\n",
       "      <td>0</td>\n",
       "      <td>0</td>\n",
       "      <td>0</td>\n",
       "      <td>0</td>\n",
       "      <td>0</td>\n",
       "      <td>0</td>\n",
       "      <td>0</td>\n",
       "      <td>(Oh, dear, !)</td>\n",
       "      <td>Carroll</td>\n",
       "    </tr>\n",
       "    <tr>\n",
       "      <th>4</th>\n",
       "      <td>0</td>\n",
       "      <td>0</td>\n",
       "      <td>0</td>\n",
       "      <td>0</td>\n",
       "      <td>0</td>\n",
       "      <td>0</td>\n",
       "      <td>0</td>\n",
       "      <td>0</td>\n",
       "      <td>0</td>\n",
       "      <td>0</td>\n",
       "      <td>...</td>\n",
       "      <td>0</td>\n",
       "      <td>0</td>\n",
       "      <td>0</td>\n",
       "      <td>0</td>\n",
       "      <td>0</td>\n",
       "      <td>0</td>\n",
       "      <td>0</td>\n",
       "      <td>0</td>\n",
       "      <td>(I, shall, be, late, !, ')</td>\n",
       "      <td>Carroll</td>\n",
       "    </tr>\n",
       "  </tbody>\n",
       "</table>\n",
       "<p>5 rows × 1537 columns</p>\n",
       "</div>"
      ],
      "text/plain": [
       "  idle pine boot number live silly deal with carry invite     ...     its  \\\n",
       "0    0    0    0      0    0     0    0    0     0      0     ...       0   \n",
       "1    0    0    0      0    0     0    0    0     0      0     ...       0   \n",
       "2    0    0    0      0    0     0    0    0     0      0     ...       0   \n",
       "3    0    0    0      0    0     0    0    0     0      0     ...       0   \n",
       "4    0    0    0      0    0     0    0    0     0      0     ...       0   \n",
       "\n",
       "  entirely lay lock ready sound neck impossible  \\\n",
       "0        0   0    0     0     0    0          0   \n",
       "1        0   0    0     0     0    0          0   \n",
       "2        0   0    0     0     0    0          0   \n",
       "3        0   0    0     0     0    0          0   \n",
       "4        0   0    0     0     0    0          0   \n",
       "\n",
       "                                       text_sentence text_source  \n",
       "0  (Alice, was, beginning, to, get, very, tired, ...     Carroll  \n",
       "1  (So, she, was, considering, in, her, own, mind...     Carroll  \n",
       "2  (There, was, nothing, so, VERY, remarkable, in...     Carroll  \n",
       "3                                      (Oh, dear, !)     Carroll  \n",
       "4                         (I, shall, be, late, !, ')     Carroll  \n",
       "\n",
       "[5 rows x 1537 columns]"
      ]
     },
     "execution_count": 16,
     "metadata": {},
     "output_type": "execute_result"
    }
   ],
   "source": [
    "# Create our data frame with features. This can take a while to run.\n",
    "word_counts = bow_features(sentences, common_words)\n",
    "word_counts.head()"
   ]
  },
  {
   "cell_type": "markdown",
   "metadata": {
    "run_control": {
     "frozen": false,
     "read_only": false
    }
   },
   "source": [
    "## Trying out BoW\n",
    "\n",
    "Now let's give the bag of words features a whirl by trying a random forest."
   ]
  },
  {
   "cell_type": "code",
   "execution_count": 17,
   "metadata": {
    "run_control": {
     "frozen": false,
     "read_only": false
    },
    "scrolled": false
   },
   "outputs": [
    {
     "name": "stderr",
     "output_type": "stream",
     "text": [
      "c:\\users\\edgor\\appdata\\local\\programs\\python\\python37-32\\lib\\site-packages\\sklearn\\ensemble\\weight_boosting.py:29: DeprecationWarning: numpy.core.umath_tests is an internal NumPy module and should not be imported. It will be removed in a future NumPy release.\n",
      "  from numpy.core.umath_tests import inner1d\n"
     ]
    },
    {
     "name": "stdout",
     "output_type": "stream",
     "text": [
      "Training set score: 0.9841897233201581\n",
      "\n",
      "Test set score: 0.8816568047337278\n"
     ]
    }
   ],
   "source": [
    "from sklearn import ensemble\n",
    "from sklearn.model_selection import train_test_split\n",
    "\n",
    "rfc = ensemble.RandomForestClassifier()\n",
    "Y = word_counts['text_source']\n",
    "X = np.array(word_counts.drop(['text_sentence','text_source'], 1))\n",
    "\n",
    "X_train, X_test, y_train, y_test = train_test_split(X, \n",
    "                                                    Y,\n",
    "                                                    test_size=0.4,\n",
    "                                                    random_state=0)\n",
    "train = rfc.fit(X_train, y_train)\n",
    "\n",
    "print('Training set score:', rfc.score(X_train, y_train))\n",
    "print('\\nTest set score:', rfc.score(X_test, y_test))"
   ]
  },
  {
   "cell_type": "markdown",
   "metadata": {
    "run_control": {
     "frozen": false,
     "read_only": false
    }
   },
   "source": [
    "Holy overfitting, Batman! Overfitting is a known problem when using bag of words, since it basically involves throwing a massive number of features at a model – some of those features (in this case, word frequencies) will capture noise in the training set. Since overfitting is also a known problem with Random Forests, the divergence between training score and test score is expected.\n",
    "\n",
    "\n",
    "## BoW with Logistic Regression\n",
    "\n",
    "Let's try a technique with some protection against overfitting due to extraneous features – logistic regression with ridge regularization (from ridge regression, also called L2 regularization)."
   ]
  },
  {
   "cell_type": "code",
   "execution_count": 18,
   "metadata": {
    "run_control": {
     "frozen": false,
     "read_only": false
    }
   },
   "outputs": [
    {
     "name": "stdout",
     "output_type": "stream",
     "text": [
      "(253, 1535) (253,)\n",
      "Training set score: 0.9920948616600791\n",
      "\n",
      "Test set score: 0.8994082840236687\n"
     ]
    }
   ],
   "source": [
    "from sklearn.linear_model import LogisticRegression\n",
    "\n",
    "lr = LogisticRegression()\n",
    "train = lr.fit(X_train, y_train)\n",
    "print(X_train.shape, y_train.shape)\n",
    "print('Training set score:', lr.score(X_train, y_train))\n",
    "print('\\nTest set score:', lr.score(X_test, y_test))"
   ]
  },
  {
   "cell_type": "markdown",
   "metadata": {
    "run_control": {
     "frozen": false,
     "read_only": false
    }
   },
   "source": [
    "Logistic regression performs a bit better than the random forest.  \n",
    "\n",
    "# BoW with Gradient Boosting\n",
    "\n",
    "And finally, let's see what gradient boosting can do:"
   ]
  },
  {
   "cell_type": "code",
   "execution_count": 19,
   "metadata": {
    "run_control": {
     "frozen": false,
     "read_only": false
    }
   },
   "outputs": [
    {
     "name": "stdout",
     "output_type": "stream",
     "text": [
      "Training set score: 0.9960474308300395\n",
      "\n",
      "Test set score: 0.8757396449704142\n"
     ]
    }
   ],
   "source": [
    "clf = ensemble.GradientBoostingClassifier()\n",
    "train = clf.fit(X_train, y_train)\n",
    "\n",
    "print('Training set score:', clf.score(X_train, y_train))\n",
    "print('\\nTest set score:', clf.score(X_test, y_test))"
   ]
  },
  {
   "cell_type": "markdown",
   "metadata": {
    "run_control": {
     "frozen": false,
     "read_only": false
    }
   },
   "source": [
    "Looks like logistic regression is the winner, but there's room for improvement.\n",
    "\n",
    "# Same model, new inputs\n",
    "\n",
    "What if we feed the model a different novel by Jane Austen, like _Emma_?  Will it be able to distinguish Austen from Carroll with the same level of accuracy if we insert a different sample of Austen's writing?\n",
    "\n",
    "First, we need to process _Emma_ the same way we processed the other data, and combine it with the Alice data:"
   ]
  },
  {
   "cell_type": "code",
   "execution_count": 20,
   "metadata": {
    "run_control": {
     "frozen": false,
     "read_only": false
    }
   },
   "outputs": [
    {
     "name": "stdout",
     "output_type": "stream",
     "text": [
      "Emma Woodhouse, handsome, clever, and rich, with a comfortable home and happy disposition, seemed to\n"
     ]
    }
   ],
   "source": [
    "# Clean the Emma data.\n",
    "emma = gutenberg.raw('austen-emma.txt')\n",
    "emma = re.sub(r'VOLUME \\w+', '', emma)\n",
    "emma = re.sub(r'CHAPTER \\w+', '', emma)\n",
    "emma = text_cleaner(emma)\n",
    "print(emma[:100])"
   ]
  },
  {
   "cell_type": "code",
   "execution_count": 21,
   "metadata": {},
   "outputs": [],
   "source": [
    "# Parse our cleaned data.\n",
    "emma_doc = nlp(emma)"
   ]
  },
  {
   "cell_type": "code",
   "execution_count": 22,
   "metadata": {},
   "outputs": [],
   "source": [
    "# Group into sentences.\n",
    "persuasion_sents = [[sent, \"Austen\"] for sent in persuasion_doc.sents]\n",
    "emma_sents = [[sent, \"Austen\"] for sent in emma_doc.sents]\n",
    "\n",
    "# Emma is quite long, let's cut it down to the same length as Alice.\n",
    "emma_sents = emma_sents[0:len(alice_sents)]"
   ]
  },
  {
   "cell_type": "code",
   "execution_count": 23,
   "metadata": {},
   "outputs": [
    {
     "name": "stdout",
     "output_type": "stream",
     "text": [
      "Processing row 0\n",
      "done\n"
     ]
    }
   ],
   "source": [
    "# Build a new Bag of Words data frame for Emma word counts.\n",
    "# We'll use the same common words from Alice and Persuasion.\n",
    "emma_sentences = pd.DataFrame(emma_sents)\n",
    "emma_bow = bow_features(emma_sentences, common_words)\n",
    "\n",
    "print('done')"
   ]
  },
  {
   "cell_type": "code",
   "execution_count": 14,
   "metadata": {},
   "outputs": [
    {
     "name": "stdout",
     "output_type": "stream",
     "text": [
      "\n",
      "Test set score: 0.703466666667\n"
     ]
    },
    {
     "data": {
      "text/html": [
       "<div>\n",
       "<table border=\"1\" class=\"dataframe\">\n",
       "  <thead>\n",
       "    <tr style=\"text-align: right;\">\n",
       "      <th>col_0</th>\n",
       "      <th>Austen</th>\n",
       "      <th>Carroll</th>\n",
       "    </tr>\n",
       "    <tr>\n",
       "      <th>row_0</th>\n",
       "      <th></th>\n",
       "      <th></th>\n",
       "    </tr>\n",
       "  </thead>\n",
       "  <tbody>\n",
       "    <tr>\n",
       "      <th>Austen</th>\n",
       "      <td>1158</td>\n",
       "      <td>21</td>\n",
       "    </tr>\n",
       "    <tr>\n",
       "      <th>Carroll</th>\n",
       "      <td>535</td>\n",
       "      <td>161</td>\n",
       "    </tr>\n",
       "  </tbody>\n",
       "</table>\n",
       "</div>"
      ],
      "text/plain": [
       "col_0    Austen  Carroll\n",
       "row_0                   \n",
       "Austen     1158       21\n",
       "Carroll     535      161"
      ]
     },
     "execution_count": 14,
     "metadata": {},
     "output_type": "execute_result"
    }
   ],
   "source": [
    "# Now we can model it!\n",
    "# Let's use logistic regression again.\n",
    "\n",
    "# Combine the Emma sentence data with the Alice data from the test set.\n",
    "X_Emma_test = np.concatenate((\n",
    "    X_train[y_train[y_train=='Carroll'].index],\n",
    "    emma_bow.drop(['text_sentence','text_source'], 1)\n",
    "), axis=0)\n",
    "y_Emma_test = pd.concat([y_train[y_train=='Carroll'],\n",
    "                         pd.Series(['Austen'] * emma_bow.shape[0])])\n",
    "\n",
    "# Model.\n",
    "print('\\nTest set score:', lr.score(X_Emma_test, y_Emma_test))\n",
    "lr_Emma_predicted = lr.predict(X_Emma_test)\n",
    "pd.crosstab(y_Emma_test, lr_Emma_predicted)"
   ]
  },
  {
   "cell_type": "markdown",
   "metadata": {
    "run_control": {
     "frozen": false,
     "read_only": false
    }
   },
   "source": [
    "Well look at that!  NLP approaches are generally effective on the same type of material as they were trained on. It looks like this model is actually able to differentiate multiple works by Austen from Alice in Wonderland.  Now the question is whether the model is very good at identifying Austen, or very good at identifying Alice in Wonderland, or both...\n",
    "\n",
    "# Challenge 0:\n",
    "\n",
    "Recall that the logistic regression model's best performance on the test set was 93%.  See what you can do to improve performance.  Suggested avenues of investigation include: Other modeling techniques (SVM?), making more features that take advantage of the spaCy information (include grammar, phrases, POS, etc), making sentence-level features (number of words, amount of punctuation), or including contextual information (length of previous and next sentences, words repeated from one sentence to the next, etc), and anything else your heart desires.  Make sure to design your models on the test set, or use cross_validation with multiple folds, and see if you can get accuracy above 90%.  \n",
    "\n",
    "# Challenge 1:\n",
    "Find out whether your new model is good at identifying Alice in Wonderland vs any other work, Persuasion vs any other work, or Austen vs any other work.  This will involve pulling a new book from the Project Gutenberg corpus (print(gutenberg.fileids()) for a list) and processing it.\n",
    "\n",
    "Record your work for each challenge in a notebook and submit it below."
   ]
  },
  {
   "cell_type": "markdown",
   "metadata": {},
   "source": [
    "## Challenge 0: Using SVM"
   ]
  },
  {
   "cell_type": "code",
   "execution_count": 29,
   "metadata": {},
   "outputs": [
    {
     "name": "stdout",
     "output_type": "stream",
     "text": [
      "Cross-Validation Scores: [0.64705882 0.64705882 0.64705882 0.64705882 0.64705882 0.64705882\n",
      " 0.64705882 0.64705882 0.64705882 0.6875    ]\n",
      "Mean Cross-Validation Score: 65.11% +/- 1.21%\n"
     ]
    }
   ],
   "source": [
    "from sklearn.svm import SVC\n",
    "svc = SVC()\n",
    "svc.fit(X_train, y_train)\n",
    "scores = cross_val_score(svc, X_test, y_test, cv=10)\n",
    "\n",
    "print('Cross-Validation Scores:', scores)\n",
    "print('Mean Cross-Validation Score: {:.2%} +/- {:.2%}'.format(scores.mean(),scores.std()))"
   ]
  },
  {
   "cell_type": "markdown",
   "metadata": {},
   "source": [
    "## Challenge 1:"
   ]
  },
  {
   "cell_type": "code",
   "execution_count": 70,
   "metadata": {},
   "outputs": [],
   "source": [
    "hamlet = gutenberg.raw('shakespeare-hamlet.txt')\n",
    "hamlet = text_cleaner(hamlet)"
   ]
  },
  {
   "cell_type": "code",
   "execution_count": 71,
   "metadata": {
    "collapsed": true
   },
   "outputs": [
    {
     "name": "stdout",
     "output_type": "stream",
     "text": [
      "Actus Primus. Scoena Prima. Enter Barnardo and Francisco two Centinels. Barnardo. Who's there? Fran. Nay answer me: Stand & vnfold your selfe Bar. Long liue the King Fran. Barnardo? Bar. He Fran. You come most carefully vpon your houre Bar. 'Tis now strook twelue, get thee to bed Francisco Fran. For this releefe much thankes: 'Tis bitter cold, And I am sicke at heart Barn. Haue you had quiet Guard? Fran. Not a Mouse stirring Barn. Well, goodnight. If you do meet Horatio and Marcellus, the Riuals of my Watch, bid them make hast. Enter Horatio and Marcellus. Fran. I thinke I heare them. Stand: who's there? Hor. Friends to this ground Mar. And Leige-men to the Dane Fran. Giue you good night Mar. O farwel honest Soldier, who hath relieu'd you? Fra. Barnardo ha's my place: giue you goodnight. Exit Fran. Mar. Holla Barnardo Bar. Say, what is Horatio there? Hor. A peece of him Bar. Welcome Horatio, welcome good Marcellus Mar. What, ha's this thing appear'd againe to night Bar. I haue seene nothing Mar. Horatio saies, 'tis but our Fantasie, And will not let beleefe take hold of him Touching this dreaded sight, twice seene of vs, Therefore I haue intreated him along With vs, to watch the minutes of this Night, That if againe this Apparition come, He may approue our eyes, and speake to it Hor. Tush, tush, 'twill not appeare Bar. Sit downe a-while, And let vs once againe assaile your eares, That are so fortified against our Story, What we two Nights haue seene Hor. Well, sit we downe, And let vs heare Barnardo speake of this Barn. Last night of all, When yond same Starre that's Westward from the Pole Had made his course t' illume that part of Heauen Where now it burnes, Marcellus and my selfe, The Bell then beating one Mar. Peace, breake thee of: Enter the Ghost. Looke where it comes againe Barn. In the same figure, like the King that's dead Mar. Thou art a Scholler; speake to it Horatio Barn. Lookes it not like the King? Marke it Horatio Hora. Most like: It harrowes me with fear & wonder Barn. It would be spoke too Mar. Question it Horatio Hor. What art thou that vsurp'st this time of night, Together with that Faire and Warlike forme In which the Maiesty of buried Denmarke Did sometimes march: By Heauen I charge thee speake Mar. It is offended Barn. See, it stalkes away Hor. Stay: speake; speake: I Charge thee, speake. Exit the Ghost. Mar. 'Tis gone, and will not answer Barn. How now Horatio? You tremble & look pale: Is not this something more then Fantasie? What thinke you on't? Hor. Before my God, I might not this beleeue Without the sensible and true auouch Of mine owne eyes Mar. Is it not like the King? Hor. As thou art to thy selfe, Such was the very Armour he had on, When th' Ambitious Norwey combatted: So frown'd he once, when in an angry parle He smot the sledded Pollax on the Ice. 'Tis strange Mar. Thus twice before, and iust at this dead houre, With Martiall stalke, hath he gone by our Watch Hor. In what particular thought to work, I know not: But in the grosse and scope of my Opinion, This boades some strange erruption to our State Mar. Good now sit downe, & tell me he that knowes Why this same strict and most obseruant Watch, So nightly toyles the subiect of the Land, And why such dayly Cast of Brazon Cannon And Forraigne Mart for Implements of warre: Why such impresse of Ship-wrights, whose sore Taske Do's not diuide the Sunday from the weeke, What might be toward, that this sweaty hast Doth make the Night ioynt-Labourer with the day: Who is't that can informe me? Hor. That can I, At least the whisper goes so: Our last King, Whose Image euen but now appear'd to vs, Was (as you know) by Fortinbras of Norway, (Thereto prick'd on by a most emulate Pride) Dar'd to the Combate. In which, our Valiant Hamlet, (For so this side of our knowne world esteem'd him) Did slay this Fortinbras: who by a Seal'd Compact, Well ratified by Law, and Heraldrie, Did forfeite (with his life) all those his Lands Which he stood seiz'd on, to the Conqueror: Against the which, a Moity competent Was gaged by our King: which had return'd To the Inheritance of Fortinbras, Had he bin Vanquisher, as by the same Cou'nant And carriage of the Article designe, His fell to Hamlet. Now sir, young Fortinbras, Of vnimproued Mettle, hot and full, Hath in the skirts of Norway, heere and there, Shark'd vp a List of Landlesse Resolutes, For Foode and Diet, to some Enterprize That hath a stomacke in't: which is no other (And it doth well appeare vnto our State) But to recouer of vs by strong hand And termes Compulsatiue, those foresaid Lands So by his Father lost: and this (I take it) Is the maine Motiue of our Preparations, The Sourse of this our Watch, and the cheefe head Of this post-hast, and Romage in the Land. Enter Ghost againe. But soft, behold: Loe, where it comes againe: Ile crosse it, though it blast me. Stay Illusion: If thou hast any sound, or vse of Voyce, Speake to me. If there be any good thing to be done, That may to thee do ease, and grace to me; speak to me. If thou art priuy to thy Countries Fate (Which happily foreknowing may auoyd) Oh speake. Or, if thou hast vp-hoorded in thy life Extorted Treasure in the wombe of Earth, (For which, they say, you Spirits oft walke in death) Speake of it. Stay, and speake. Stop it Marcellus Mar. Shall I strike at it with my Partizan? Hor. Do, if it will not stand Barn. 'Tis heere Hor. 'Tis heere Mar. 'Tis gone. Exit Ghost. We do it wrong, being so Maiesticall To offer it the shew of Violence, For it is as the Ayre, invulnerable, And our vaine blowes, malicious Mockery Barn. It was about to speake, when the Cocke crew Hor. And then it started, like a guilty thing Vpon a fearfull Summons. I haue heard, The Cocke that is the Trumpet to the day, Doth with his lofty and shrill-sounding Throate Awake the God of Day: and at his warning, Whether in Sea, or Fire, in Earth, or Ayre, Th' extrauagant, and erring Spirit, hyes To his Confine. And of the truth heerein, This present Obiect made probation Mar. It faded on the crowing of the Cocke. Some sayes, that euer 'gainst that Season comes Wherein our Sauiours Birch is celebrated, The Bird of Dawning singeth all night long: And then (they say) no Spirit can walke abroad, The nights are wholsome, then no Planets strike, No Faiery talkes, nor Witch hath power to Charme: So hallow'd, and so gracious is the time Hor. So haue I heard, and do in part beleeue it. But looke, the Morne in Russet mantle clad, Walkes o're the dew of yon high Easterne Hill, Breake we our Watch vp, and by my aduice Let vs impart what we haue seene to night Vnto yong Hamlet. For vpon my life, This Spirit dumbe to vs, will speake to him: Do you consent we shall acquaint him with it, As needfull in our Loues, fitting our Duty? Mar. Let do't I pray, and I this morning know Where we shall finde him most conueniently. Exeunt. Scena Secunda. Enter Claudius King of Denmarke, Gertrude the Queene, Hamlet, Polonius, Laertes, and his Sister Ophelia, Lords Attendant. King. Though yet of Hamlet our deere Brothers death The memory be greene: and that it vs befitted To beare our hearts in greefe, and our whole Kingdome To be contracted in one brow of woe: Yet so farre hath Discretion fought with Nature, That we with wisest sorrow thinke on him, Together with remembrance of our selues. Therefore our sometimes Sister, now our Queene, Th' imperiall Ioyntresse of this warlike State, Haue we, as 'twere, with a defeated ioy, With one Auspicious, and one Dropping eye, With mirth in Funerall, and with Dirge in Marriage, In equall Scale weighing Delight and Dole Taken to Wife; nor haue we heerein barr'd Your better Wisedomes, which haue freely gone With this affaire along, for all our Thankes. Now followes, that you know young Fortinbras, Holding a weake supposall of our worth; Or thinking by our late deere Brothers death, Our State to be disioynt, and out of Frame, Colleagued with the dreame of his Aduantage; He hath not fayl'd to pester vs with Message, Importing the surrender of those Lands Lost by his Father: with all Bonds of Law To our most valiant Brother. So much for him. Enter Voltemand and Cornelius. Now for our selfe, and for this time of meeting Thus much the businesse is. We haue heere writ To Norway, Vncle of young Fortinbras, Who Impotent and Bedrid, scarsely heares Of this his Nephewes purpose, to suppresse His further gate heerein. In that the Leuies, The Lists, and full proportions are all made Out of his subiect: and we heere dispatch You good Cornelius, and you Voltemand, For bearing of this greeting to old Norway, Giuing to you no further personall power To businesse with the King, more then the scope Of these dilated Articles allow: Farewell, and let your hast commend your duty Volt. In that, and all things, will we shew our duty King. We doubt it nothing, heartily farewell. Exit Voltemand and Cornelius. And now Laertes, what's the newes with you? You told vs of some suite. What is't Laertes? You cannot speake of Reason to the Dane, And loose your voyce. What would'st thou beg Laertes, That shall not be my Offer, not thy Asking? The Head is not more Natiue to the Heart, The Hand more instrumentall to the Mouth, Then is the Throne of Denmarke to thy Father. What would'st thou haue Laertes? Laer. Dread my Lord, Your leaue and fauour to returne to France, From whence, though willingly I came to Denmarke To shew my duty in your Coronation, Yet now I must confesse, that duty done, My thoughts and wishes bend againe towards France, And bow them to your gracious leaue and pardon King. Haue you your Fathers leaue? What sayes Pollonius? Pol. He hath my Lord: I do beseech you giue him leaue to go King. Take thy faire houre Laertes, time be thine, And thy best graces spend it at thy will: But now my Cosin Hamlet, and my Sonne? Ham. A little more then kin, and lesse then kinde King. How is it that the Clouds still hang on you? Ham. Not so my Lord, I am too much i'th' Sun Queen. Good Hamlet cast thy nightly colour off, And let thine eye looke like a Friend on Denmarke. Do not for euer with thy veyled lids Seeke for thy Noble Father in the dust; Thou know'st 'tis common, all that liues must dye, Passing through Nature, to Eternity Ham. I Madam, it is common Queen. If it be; Why seemes it so particular with thee Ham. Seemes Madam? Nay, it is: I know not Seemes: 'Tis not alone my Inky Cloake (good Mother) Nor Customary suites of solemne Blacke, Nor windy suspiration of forc'd breath, No, nor the fruitfull Riuer in the Eye, Nor the deiected hauiour of the Visage, Together with all Formes, Moods, shewes of Griefe, That can denote me truly. These indeed Seeme, For they are actions that a man might play: But I haue that Within, which passeth show; These, but the Trappings, and the Suites of woe King. 'Tis sweet and commendable In your Nature Hamlet, To giue these mourning duties to your Father: But you must know, your Father lost a Father, That Father lost, lost his, and the Suruiuer bound In filiall Obligation, for some terme To do obsequious Sorrow. But to perseuer In obstinate Condolement, is a course Of impious stubbornnesse. 'Tis vnmanly greefe, It shewes a will most incorrect to Heauen, A Heart vnfortified, a Minde impatient, An Vnderstanding simple, and vnschool'd: For, what we know must be, and is as common As any the most vulgar thing to sence, Why should we in our peeuish Opposition Take it to heart? Fye, 'tis a fault to Heauen, A fault against the Dead, a fault to Nature, To Reason most absurd, whose common Theame Is death of Fathers, and who still hath cried, From the first Coarse, till he that dyed to day, This must be so. We pray you throw to earth This vnpreuayling woe, and thinke of vs As of a Father; For let the world take note, You are the most immediate to our Throne, And with no lesse Nobility of Loue, Then that which deerest Father beares his Sonne, Do I impart towards you. For your intent In going backe to Schoole in Wittenberg, It is most retrograde to our desire: And we beseech you, bend you to remaine Heere in the cheere and comfort of our eye, Our cheefest Courtier Cosin, and our Sonne Qu. Let not thy Mother lose her Prayers Hamlet: I prythee stay with vs, go not to Wittenberg Ham. I shall in all my best Obey you Madam King. Why 'tis a louing, and a faire Reply, Be as our selfe in Denmarke. Madam come, This gentle and vnforc'd accord of Hamlet Sits smiling to my heart; in grace whereof, No iocond health that Denmarke drinkes to day, But the great Cannon to the Clowds shall tell, And the Kings Rouce, the Heauens shall bruite againe, Respeaking earthly Thunder. Come away. Exeunt. Manet Hamlet. Ham. Oh that this too too solid Flesh, would melt, Thaw, and resolue it selfe into a Dew: Or that the Euerlasting had not fixt His Cannon 'gainst Selfe-slaughter. O God, O God! How weary, stale, flat, and vnprofitable Seemes to me all the vses of this world? Fie on't? Oh fie, fie, 'tis an vnweeded Garden That growes to Seed: Things rank, and grosse in Nature Possesse it meerely. That it should come to this: But two months dead: Nay, not so much; not two, So excellent a King, that was to this Hiperion to a Satyre: so louing to my Mother, That he might not beteene the windes of heauen Visit her face too roughly. Heauen and Earth Must I remember: why she would hang on him, As if encrease of Appetite had growne By what is fed on; and yet within a month? Let me not thinke on't: Frailty, thy name is woman. A little Month, or ere those shooes were old, With which she followed my poore Fathers body Like Niobe, all teares. Why she, euen she. (O Heauen! A beast that wants discourse of Reason Would haue mourn'd longer) married with mine Vnkle, My Fathers Brother: but no more like my Father, Then I to Hercules. Within a Moneth? Ere yet the salt of most vnrighteous Teares Had left the flushing of her gauled eyes, She married. O most wicked speed, to post With such dexterity to Incestuous sheets: It is not, nor it cannot come to good. But breake my heart, for I must hold my tongue. Enter Horatio, Barnardo, and Marcellus. Hor. Haile to your Lordship Ham. I am glad to see you well: Horatio, or I do forget my selfe Hor. The same my Lord, And your poore Seruant euer Ham. Sir my good friend, Ile change that name with you: And what make you from Wittenberg Horatio? Marcellus Mar. My good Lord Ham. I am very glad to see you: good euen Sir. But what in faith make you from Wittemberge? Hor. A truant disposition, good my Lord Ham. I would not haue your Enemy say so; Nor shall you doe mine eare that violence, To make it truster of your owne report Against your selfe. I know you are no Truant: But what is your affaire in Elsenour? Wee'l teach you to drinke deepe, ere you depart Hor. My Lord, I came to see your Fathers Funerall Ham. I pray thee doe not mock me (fellow Student) I thinke it was to see my Mothers Wedding Hor. Indeed my Lord, it followed hard vpon Ham. Thrift thrift Horatio: the Funerall Bakt-meats Did coldly furnish forth the Marriage Tables; Would I had met my dearest foe in heauen, Ere I had euer seene that day Horatio. My father, me thinkes I see my father Hor. Oh where my Lord? Ham. In my minds eye (Horatio) Hor. I saw him once; he was a goodly King Ham. He was a man, take him for all in all: I shall not look vpon his like againe Hor. My Lord, I thinke I saw him yesternight Ham. Saw? Who? Hor. My Lord, the King your Father Ham. The King my Father? Hor. Season your admiration for a while With an attent eare; till I may deliuer Vpon the witnesse of these Gentlemen, This maruell to you Ham. For Heauens loue let me heare Hor. Two nights together, had these Gentlemen (Marcellus and Barnardo) on their Watch In the dead wast and middle of the night Beene thus encountred. A figure like your Father, Arm'd at all points exactly, Cap a Pe, Appeares before them, and with sollemne march Goes slow and stately: By them thrice he walkt, By their opprest and feare-surprized eyes, Within his Truncheons length; whilst they bestil'd Almost to Ielly with the Act of feare, Stand dumbe and speake not to him. This to me In dreadfull secrecie impart they did, And I with them the third Night kept the Watch, Whereas they had deliuer'd both in time, Forme of the thing; each word made true and good, The Apparition comes. I knew your Father: These hands are not more like Ham. But where was this? Mar. My Lord vpon the platforme where we watcht Ham. Did you not speake to it? Hor. My Lord, I did; But answere made it none: yet once me thought It lifted vp it head, and did addresse It selfe to motion, like as it would speake: But euen then, the Morning Cocke crew lowd; And at the sound it shrunke in hast away, And vanisht from our sight Ham. Tis very strange Hor. As I doe liue my honourd Lord 'tis true; And we did thinke it writ downe in our duty To let you know of it Ham. Indeed, indeed Sirs; but this troubles me. Hold you the watch to Night? Both. We doe my Lord Ham. Arm'd, say you? Both. Arm'd, my Lord Ham. From top to toe? Both. My Lord, from head to foote Ham. Then saw you not his face? Hor. O yes, my Lord, he wore his Beauer vp Ham. What, lookt he frowningly? Hor. A countenance more in sorrow then in anger Ham. Pale, or red? Hor. Nay very pale Ham. And fixt his eyes vpon you? Hor. Most constantly Ham. I would I had beene there Hor. It would haue much amaz'd you Ham. Very like, very like: staid it long? Hor. While one with moderate hast might tell a hundred All. Longer, longer Hor. Not when I saw't Ham. His Beard was grisly? no Hor. It was, as I haue seene it in his life, A Sable Siluer'd Ham. Ile watch to Night; perchance 'twill wake againe Hor. I warrant you it will Ham. If it assume my noble Fathers person, Ile speake to it, though Hell it selfe should gape And bid me hold my peace. I pray you all, If you haue hitherto conceald this sight; Let it bee treble in your silence still: And whatsoeuer els shall hap to night, Giue it an vnderstanding but no tongue; I will requite your loues; so fare ye well: Vpon the Platforme twixt eleuen and twelue, Ile visit you All. Our duty to your Honour. Exeunt Ham. Your loue, as mine to you: farewell. My Fathers Spirit in Armes? All is not well: I doubt some foule play: would the Night were come; Till then sit still my soule; foule deeds will rise, Though all the earth orewhelm them to mens eies. Enter. Scena Tertia Enter Laertes and Ophelia. Laer. My necessaries are imbark't; Farewell: And Sister, as the Winds giue Benefit, And Conuoy is assistant; doe not sleepe, But let me heare from you Ophel. Doe you doubt that? Laer. For Hamlet, and the trifling of his fauours, Hold it a fashion and a toy in Bloude; A Violet in the youth of Primy Nature; Froward, not permanent; sweet not lasting The suppliance of a minute? No more Ophel. No more but so Laer. Thinke it no more: For nature cressant does not grow alone, In thewes and Bulke: but as his Temple waxes, The inward seruice of the Minde and Soule Growes wide withall. Perhaps he loues you now, And now no soyle nor cautell doth besmerch The vertue of his feare: but you must feare His greatnesse weigh'd, his will is not his owne; For hee himselfe is subiect to his Birth: Hee may not, as vnuallued persons doe, Carue for himselfe; for, on his choyce depends The sanctity and health of the whole State. And therefore must his choyce be circumscrib'd Vnto the voyce and yeelding of that Body, Whereof he is the Head. Then if he sayes he loues you, It fits your wisedome so farre to beleeue it; As he in his peculiar Sect and force May giue his saying deed: which is no further, Then the maine voyce of Denmarke goes withall. Then weight what losse your Honour may sustaine, If with too credent eare you list his Songs; Or lose your Heart; or your chast Treasure open To his vnmastred importunity. Feare it Ophelia, feare it my deare Sister, And keepe within the reare of your Affection; Out of the shot and danger of Desire. The chariest Maid is Prodigall enough, If she vnmaske her beauty to the Moone: Vertue it selfe scapes not calumnious stroakes, The Canker Galls, the Infants of the Spring Too oft before the buttons be disclos'd, And in the Morne and liquid dew of Youth, Contagious blastments are most imminent. Be wary then, best safety lies in feare; Youth to it selfe rebels, though none else neere Ophe. I shall th' effect of this good Lesson keepe, As watchmen to my heart: but good my Brother Doe not as some vngracious Pastors doe, Shew me the steepe and thorny way to Heauen; Whilst like a puft and recklesse Libertine Himselfe, the Primrose path of dalliance treads, And reaks not his owne reade Laer. Oh, feare me not. Enter Polonius. I stay too long; but here my Father comes: A double blessing is a double grace; Occasion smiles vpon a second leaue Polon. Yet heere Laertes? Aboord, aboord for shame, The winde sits in the shoulder of your saile, And you are staid for there: my blessing with you; And these few Precepts in thy memory, See thou Character. Giue thy thoughts no tongue, Nor any vnproportion'd thoughts his Act: Be thou familiar; but by no meanes vulgar: The friends thou hast, and their adoption tride, Grapple them to thy Soule, with hoopes of Steele: But doe not dull thy palme, with entertainment Of each vnhatch't, vnfledg'd Comrade. Beware Of entrance to a quarrell: but being in Bear't that th' opposed may beware of thee. Giue euery man thine eare; but few thy voyce: Take each mans censure; but reserue thy iudgement: Costly thy habit as thy purse can buy; But not exprest in fancie; rich, not gawdie: For the Apparell oft proclaimes the man. And they in France of the best ranck and station, Are of a most select and generous cheff in that. Neither a borrower, nor a lender be; For lone oft loses both it selfe and friend: And borrowing duls the edge of Husbandry. This aboue all; to thine owne selfe be true: And it must follow, as the Night the Day, Thou canst not then be false to any man. Farewell: my Blessing season this in thee Laer. Most humbly doe I take my leaue, my Lord Polon. The time inuites you, goe, your seruants tend Laer. Farewell Ophelia, and remember well What I haue said to you Ophe. Tis in my memory lockt, And you your selfe shall keepe the key of it Laer. Farewell. Exit Laer. Polon. What ist Ophelia he hath said to you? Ophe. So please you, somthing touching the L. Hamlet Polon. Marry, well bethought: Tis told me he hath very oft of late Giuen priuate time to you; and you your selfe Haue of your audience beene most free and bounteous. If it be so, as so tis put on me; And that in way of caution: I must tell you, You doe not vnderstand your selfe so cleerely, As it behoues my Daughter, and your Honour. What is betweene you, giue me vp the truth? Ophe. He hath my Lord of late, made many tenders Of his affection to me Polon. Affection, puh. You speake like a greene Girle, Vnsifted in such perillous Circumstance. Doe you beleeue his tenders, as you call them? Ophe. I do not know, my Lord, what I should thinke Polon. Marry Ile teach you; thinke your selfe a Baby, That you haue tane his tenders for true pay, Which are not starling. Tender your selfe more dearly; Or not to crack the winde of the poore Phrase, Roaming it thus, you'l tender me a foole Ophe. My Lord, he hath importun'd me with loue, In honourable fashion Polon. I, fashion you may call it, go too, go too Ophe. And hath giuen countenance to his speech, My Lord, with all the vowes of Heauen Polon. I, Springes to catch Woodcocks. I doe know When the Bloud burnes, how Prodigall the Soule Giues the tongue vowes: these blazes, Daughter, Giuing more light then heate; extinct in both, Euen in their promise, as it is a making; You must not take for fire. For this time Daughter, Be somewhat scanter of your Maiden presence; Set your entreatments at a higher rate, Then a command to parley. For Lord Hamlet, Beleeue so much in him, that he is young, And with a larger tether may he walke, Then may be giuen you. In few, Ophelia, Doe not beleeue his vowes; for they are Broakers, Not of the eye, which their Inuestments show: But meere implorators of vnholy Sutes, Breathing like sanctified and pious bonds, The better to beguile. This is for all: I would not, in plaine tearmes, from this time forth, Haue you so slander any moment leisure, As to giue words or talke with the Lord Hamlet: Looke too't, I charge you; come your wayes Ophe. I shall obey my Lord. Exeunt. Enter Hamlet, Horatio, Marcellus. Ham. The Ayre bites shrewdly: is it very cold? Hor. It is a nipping and an eager ayre Ham. What hower now? Hor. I thinke it lacks of twelue Mar. No, it is strooke Hor. Indeed I heard it not: then it drawes neere the season, Wherein the Spirit held his wont to walke. What does this meane my Lord? Ham. The King doth wake to night, and takes his rouse, Keepes wassels and the swaggering vpspring reeles, And as he dreines his draughts of Renish downe, The kettle Drum and Trumpet thus bray out The triumph of his Pledge Horat. Is it a custome? Ham. I marry ist; And to my mind, though I am natiue heere, And to the manner borne: It is a Custome More honour'd in the breach, then the obseruance. Enter Ghost. Hor. Looke my Lord, it comes Ham. Angels and Ministers of Grace defend vs: Be thou a Spirit of health, or Goblin damn'd, Bring with thee ayres from Heauen, or blasts from Hell, Be thy euents wicked or charitable, Thou com'st in such a questionable shape That I will speake to thee. Ile call thee Hamlet, King, Father, Royall Dane: Oh, oh, answer me, Let me not burst in Ignorance; but tell Why thy Canoniz'd bones Hearsed in death, Haue burst their cerments, why the Sepulcher Wherein we saw thee quietly enurn'd, Hath op'd his ponderous and Marble iawes, To cast thee vp againe? What may this meane? That thou dead Coarse againe in compleat steele, Reuisits thus the glimpses of the Moone, Making Night hidious? And we fooles of Nature, So horridly to shake our disposition, With thoughts beyond thee; reaches of our Soules, Say, why is this? wherefore? what should we doe? Ghost beckens Hamlet. Hor. It beckons you to goe away with it, As if it some impartment did desire To you alone Mar. Looke with what courteous action It wafts you to a more remoued ground: But doe not goe with it Hor. No, by no meanes Ham. It will not speake: then will I follow it Hor. Doe not my Lord Ham. Why, what should be the feare? I doe not set my life at a pins fee; And for my Soule, what can it doe to that? Being a thing immortall as it selfe: It waues me forth againe; Ile follow it Hor. What if it tempt you toward the Floud my Lord? Or to the dreadfull Sonnet of the Cliffe, That beetles o're his base into the Sea, And there assumes some other horrible forme, Which might depriue your Soueraignty of Reason, And draw you into madnesse thinke of it? Ham. It wafts me still: goe on, Ile follow thee Mar. You shall not goe my Lord Ham. Hold off your hand Hor. Be rul'd, you shall"
     ]
    },
    {
     "name": "stdout",
     "output_type": "stream",
     "text": [
      "\n"
     ]
    }
   ],
   "source": [
    "print(hamlet)"
   ]
  },
  {
   "cell_type": "code",
   "execution_count": 72,
   "metadata": {
    "scrolled": true
   },
   "outputs": [],
   "source": [
    "hamlet_doc = nlp(hamlet)\n",
    "hamlet_sents = [[sent, 'Shakespeare'] for sent in hamlet_doc.sents]\n",
    "hamlet_sents = hamlet_sents[0:len(alice_sents)]"
   ]
  },
  {
   "cell_type": "code",
   "execution_count": 73,
   "metadata": {},
   "outputs": [
    {
     "name": "stdout",
     "output_type": "stream",
     "text": [
      "Processing row 0\n"
     ]
    }
   ],
   "source": [
    "hamlet_sentences = pd.DataFrame(hamlet_sents)\n",
    "hamlet_bow = bow_features(hamlet_sentences, common_words)"
   ]
  },
  {
   "cell_type": "code",
   "execution_count": 74,
   "metadata": {},
   "outputs": [],
   "source": [
    "#Was not sure how to combine the data using the example, so I tried this instead\n",
    "emma_test = emma_bow.drop(['text_sentence','text_source'], axis=1)\n",
    "hamlet_test = hamlet_bow.drop(['text_sentence','text_source'], axis=1)\n",
    "X_test1 = np.concatenate((emma_test, hamlet_test), axis=0)\n",
    "Y_test1 = np.concatenate((emma_bow['text_source'], hamlet_bow['text_source']), axis=0)"
   ]
  },
  {
   "cell_type": "code",
   "execution_count": 75,
   "metadata": {},
   "outputs": [
    {
     "name": "stdout",
     "output_type": "stream",
     "text": [
      "\n",
      "Test set scores: [0.86       0.78       0.72       0.74       0.66       0.7755102\n",
      " 0.69387755 0.79591837 0.72916667 0.70833333]\n"
     ]
    }
   ],
   "source": [
    "#Random Forest Classifier\n",
    "rfc_scores = cross_val_score(rfc, X_test1, Y_test1, cv=10)\n",
    "print('\\nTest set scores:', rfc_scores)"
   ]
  },
  {
   "cell_type": "code",
   "execution_count": 76,
   "metadata": {},
   "outputs": [
    {
     "name": "stdout",
     "output_type": "stream",
     "text": [
      "\n",
      "Test set scores: [0.82       0.8        0.78       0.8        0.78       0.73469388\n",
      " 0.7755102  0.83673469 0.8125     0.6875    ]\n"
     ]
    }
   ],
   "source": [
    "#logistic Regression\n",
    "lr_scores = cross_val_score(lr, X_test1, Y_test1, cv = 10)\n",
    "print('\\nTest set scores:', lr_scores)"
   ]
  },
  {
   "cell_type": "code",
   "execution_count": 78,
   "metadata": {},
   "outputs": [
    {
     "name": "stdout",
     "output_type": "stream",
     "text": [
      "\n",
      "Test set scores: [0.76       0.74       0.74       0.62       0.72       0.75510204\n",
      " 0.79591837 0.81632653 0.8125     0.64583333]\n"
     ]
    }
   ],
   "source": [
    "#Gradient Boosting\n",
    "clf_scores = cross_val_score(clf, X_test1, Y_test1, cv = 10)\n",
    "print('\\nTest set scores:', clf_scores)"
   ]
  },
  {
   "cell_type": "code",
   "execution_count": null,
   "metadata": {},
   "outputs": [],
   "source": []
  }
 ],
 "metadata": {
  "hide_input": false,
  "kernelspec": {
   "display_name": "Python 3",
   "language": "python",
   "name": "python3"
  },
  "language_info": {
   "codemirror_mode": {
    "name": "ipython",
    "version": 3
   },
   "file_extension": ".py",
   "mimetype": "text/x-python",
   "name": "python",
   "nbconvert_exporter": "python",
   "pygments_lexer": "ipython3",
   "version": "3.7.0"
  },
  "toc": {
   "colors": {
    "hover_highlight": "#DAA520",
    "running_highlight": "#FF0000",
    "selected_highlight": "#FFD700"
   },
   "moveMenuLeft": true,
   "nav_menu": {
    "height": "49px",
    "width": "252px"
   },
   "navigate_menu": true,
   "number_sections": true,
   "sideBar": true,
   "threshold": 4,
   "toc_cell": false,
   "toc_section_display": "block",
   "toc_window_display": false
  }
 },
 "nbformat": 4,
 "nbformat_minor": 2
}
